{
  "cells": [
    {
      "cell_type": "markdown",
      "metadata": {
        "id": "zftsbHrFVL6B"
      },
      "source": [
        "1.ANSWER"
      ]
    },
    {
      "cell_type": "code",
      "execution_count": 2,
      "metadata": {
        "colab": {
          "base_uri": "https://localhost:8080/"
        },
        "id": "aL1y8hHefB_R",
        "outputId": "26e44bc8-44a9-4527-eca7-466b6899723c"
      },
      "outputs": [
        {
          "output_type": "stream",
          "name": "stdout",
          "text": [
            "RUNNER UP SCORE=90\n"
          ]
        }
      ],
      "source": [
        "part_score=[97,56,78,90,45,43,56]\n",
        "list=[]\n",
        "for i in part_score:\n",
        "  if i!=max(part_score):\n",
        "    list.append(i)\n",
        "    i=i+1\n",
        "print(\"RUNNER UP SCORE=\"+str(max(list)))\n"
      ]
    },
    {
      "cell_type": "markdown",
      "metadata": {
        "id": "gCQL2lN-VP1S"
      },
      "source": [
        "2.ANSWER"
      ]
    },
    {
      "cell_type": "code",
      "execution_count": 4,
      "metadata": {
        "colab": {
          "base_uri": "https://localhost:8080/"
        },
        "id": "netX_-aHf3bX",
        "outputId": "69656ebc-8f1e-47d1-ea98-cd86339e5e5a"
      },
      "outputs": [
        {
          "output_type": "stream",
          "name": "stdout",
          "text": [
            "enter your namejohn\n",
            "{'john': [88, 77, 99], 'peter': [87, 55, 96], 'ram': [58, 55, 43], 'meena': [63, 79, 85]}\n"
          ]
        }
      ],
      "source": [
        "D={\"john\":[25,32,43],\"peter\":[87,55,96],\"ram\":[58,55,43],\"meena\":[63,79,85]}\n",
        "name=str(input(\"enter your name\"))\n",
        "if name in D:\n",
        "  D.update({name:[88,77,99]})\n",
        "  print(D)\n",
        "else:\n",
        "  print(\"name not found\")"
      ]
    },
    {
      "cell_type": "markdown",
      "metadata": {
        "id": "OLS7dE7bVTU-"
      },
      "source": [
        "3.ANSWER"
      ]
    },
    {
      "cell_type": "code",
      "execution_count": 5,
      "metadata": {
        "colab": {
          "base_uri": "https://localhost:8080/"
        },
        "id": "XBIdukUEs3Fp",
        "outputId": "9fafb436-539d-4b59-f9fc-0c55d9a843ff"
      },
      "outputs": [
        {
          "output_type": "stream",
          "name": "stdout",
          "text": [
            "enter the name:anjana\n",
            "enter your age34\n",
            "enter your genderfemale\n",
            "50% cash back available\n",
            "tickrt price=25.0\n"
          ]
        }
      ],
      "source": [
        "name=str(input(\"enter the name:\"))\n",
        "age=int(input(\"enter your age\"))\n",
        "gender=str(input(\"enter your gender\"))\n",
        "\n",
        "if age<5 or age>60:\n",
        "  print(name +\"\\t\"+\"got free ticket\")\n",
        "elif(age>=5 and age<=12):\n",
        "  if(gender=='female'):\n",
        "      ticket=10*50/100\n",
        "      print(\"50% cash back available\")\n",
        "      print(\"ticketprice=\"+str(ticket))\n",
        "  else:\n",
        "      print(\"ticketprice=10\")\n",
        "elif(age>12 and age<=60):\n",
        "  if(gender=='female'):\n",
        "     ticket=50*50/100\n",
        "     print(\"50% cash back available\")\n",
        "     print(\"tickrt price=\"+str(ticket))\n",
        "  else:\n",
        "     print(\"ticketprice=50\")\n",
        "\n",
        "\n",
        "\n",
        "else:\n",
        "  print(\"not available\")\n"
      ]
    },
    {
      "cell_type": "code",
      "execution_count": null,
      "metadata": {
        "id": "GWTp5dxfzXOL"
      },
      "outputs": [],
      "source": []
    }
  ],
  "metadata": {
    "colab": {
      "provenance": []
    },
    "kernelspec": {
      "display_name": "Python 3",
      "name": "python3"
    },
    "language_info": {
      "name": "python"
    }
  },
  "nbformat": 4,
  "nbformat_minor": 0
}